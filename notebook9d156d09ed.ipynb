{
  "cells": [
    {
      "cell_type": "markdown",
      "metadata": {
        "id": "view-in-github",
        "colab_type": "text"
      },
      "source": [
        "<a href=\"https://colab.research.google.com/github/beyzaerdogn/ATM/blob/master/notebook9d156d09ed.ipynb\" target=\"_parent\"><img src=\"https://colab.research.google.com/assets/colab-badge.svg\" alt=\"Open In Colab\"/></a>"
      ]
    },
    {
      "source": [
        "\n",
        "# IMPORTANT: RUN THIS CELL IN ORDER TO IMPORT YOUR KAGGLE DATA SOURCES\n",
        "# TO THE CORRECT LOCATION (/kaggle/input) IN YOUR NOTEBOOK,\n",
        "# THEN FEEL FREE TO DELETE THIS CELL.\n",
        "# NOTE: THIS NOTEBOOK ENVIRONMENT DIFFERS FROM KAGGLE'S PYTHON\n",
        "# ENVIRONMENT SO THERE MAY BE MISSING LIBRARIES USED BY YOUR\n",
        "# NOTEBOOK.\n",
        "\n",
        "import os\n",
        "import sys\n",
        "from tempfile import NamedTemporaryFile\n",
        "from urllib.request import urlopen\n",
        "from urllib.parse import unquote, urlparse\n",
        "from urllib.error import HTTPError\n",
        "from zipfile import ZipFile\n",
        "import tarfile\n",
        "import shutil\n",
        "\n",
        "CHUNK_SIZE = 40960\n",
        "DATA_SOURCE_MAPPING = 'playground-series-s4e8:https%3A%2F%2Fstorage.googleapis.com%2Fkaggle-competitions-data%2Fkaggle-v2%2F76727%2F9045607%2Fbundle%2Farchive.zip%3FX-Goog-Algorithm%3DGOOG4-RSA-SHA256%26X-Goog-Credential%3Dgcp-kaggle-com%2540kaggle-161607.iam.gserviceaccount.com%252F20240802%252Fauto%252Fstorage%252Fgoog4_request%26X-Goog-Date%3D20240802T080002Z%26X-Goog-Expires%3D259200%26X-Goog-SignedHeaders%3Dhost%26X-Goog-Signature%3D83f6ab0a28cc67784fa2f11054ac11d64aff44427996f488d09d49010efcd789a4b84c1f87ca041037af99361240a8a99d242afb107cffafba1203ce22adcbefe1069ad7ab18f869ad2ad9b684d34e588414f04bff6d3c0cdca114916c63952ccb00403ae4ecdd754beaee16a798ccc9054f64f9cc9d21d9633dbb71f2e40dc3d8e87fa71de2f7cbeaa319ddc3f6f07310c08f674fa89c547b7cc85f51b29c763d39aac39e87bbdfa4bef5c6688a9cbc377cb4f811fbc48547f10d84c74932c1c4b18c0e2f2f7cc4e458fc8827927be018fbeb3d3796f0f3c187efd185584460066a0a9b220a92f70538cf745d52ffc8952f84447484e8758ccf92946f3a2a19'\n",
        "\n",
        "KAGGLE_INPUT_PATH='/kaggle/input'\n",
        "KAGGLE_WORKING_PATH='/kaggle/working'\n",
        "KAGGLE_SYMLINK='kaggle'\n",
        "\n",
        "!umount /kaggle/input/ 2> /dev/null\n",
        "shutil.rmtree('/kaggle/input', ignore_errors=True)\n",
        "os.makedirs(KAGGLE_INPUT_PATH, 0o777, exist_ok=True)\n",
        "os.makedirs(KAGGLE_WORKING_PATH, 0o777, exist_ok=True)\n",
        "\n",
        "try:\n",
        "  os.symlink(KAGGLE_INPUT_PATH, os.path.join(\"..\", 'input'), target_is_directory=True)\n",
        "except FileExistsError:\n",
        "  pass\n",
        "try:\n",
        "  os.symlink(KAGGLE_WORKING_PATH, os.path.join(\"..\", 'working'), target_is_directory=True)\n",
        "except FileExistsError:\n",
        "  pass\n",
        "\n",
        "for data_source_mapping in DATA_SOURCE_MAPPING.split(','):\n",
        "    directory, download_url_encoded = data_source_mapping.split(':')\n",
        "    download_url = unquote(download_url_encoded)\n",
        "    filename = urlparse(download_url).path\n",
        "    destination_path = os.path.join(KAGGLE_INPUT_PATH, directory)\n",
        "    try:\n",
        "        with urlopen(download_url) as fileres, NamedTemporaryFile() as tfile:\n",
        "            total_length = fileres.headers['content-length']\n",
        "            print(f'Downloading {directory}, {total_length} bytes compressed')\n",
        "            dl = 0\n",
        "            data = fileres.read(CHUNK_SIZE)\n",
        "            while len(data) > 0:\n",
        "                dl += len(data)\n",
        "                tfile.write(data)\n",
        "                done = int(50 * dl / int(total_length))\n",
        "                sys.stdout.write(f\"\\r[{'=' * done}{' ' * (50-done)}] {dl} bytes downloaded\")\n",
        "                sys.stdout.flush()\n",
        "                data = fileres.read(CHUNK_SIZE)\n",
        "            if filename.endswith('.zip'):\n",
        "              with ZipFile(tfile) as zfile:\n",
        "                zfile.extractall(destination_path)\n",
        "            else:\n",
        "              with tarfile.open(tfile.name) as tarfile:\n",
        "                tarfile.extractall(destination_path)\n",
        "            print(f'\\nDownloaded and uncompressed: {directory}')\n",
        "    except HTTPError as e:\n",
        "        print(f'Failed to load (likely expired) {download_url} to path {destination_path}')\n",
        "        continue\n",
        "    except OSError as e:\n",
        "        print(f'Failed to load {download_url} to path {destination_path}')\n",
        "        continue\n",
        "\n",
        "print('Data source import complete.')\n"
      ],
      "metadata": {
        "id": "o-LI64XbGmr6",
        "outputId": "ad904cb3-c27f-4a87-a404-c1f51bf186bb",
        "colab": {
          "base_uri": "https://localhost:8080/"
        }
      },
      "cell_type": "code",
      "outputs": [
        {
          "output_type": "stream",
          "name": "stdout",
          "text": [
            "Downloading playground-series-s4e8, 86301661 bytes compressed\n",
            "[==================================================] 86301661 bytes downloaded\n",
            "Downloaded and uncompressed: playground-series-s4e8\n",
            "Data source import complete.\n"
          ]
        }
      ],
      "execution_count": 1
    },
    {
      "metadata": {
        "_uuid": "8f2839f25d086af736a60e9eeb907d3b93b6e0e5",
        "_cell_guid": "b1076dfc-b9ad-4769-8c92-a6c4dae69d19",
        "trusted": true,
        "id": "4JiBQQmcGmsC",
        "outputId": "f89f5088-eb70-479c-d2eb-ed9e3b63b4ca",
        "colab": {
          "base_uri": "https://localhost:8080/"
        }
      },
      "cell_type": "code",
      "source": [
        "# This Python 3 environment comes with many helpful analytics libraries installed\n",
        "# It is defined by the kaggle/python Docker image: https://github.com/kaggle/docker-python\n",
        "# For example, here's several helpful packages to load\n",
        "\n",
        "import numpy as np # linear algebra\n",
        "import pandas as pd # data processing, CSV file I/O (e.g. pd.read_csv)\n",
        "\n",
        "# Input data files are available in the read-only \"../input/\" directory\n",
        "# For example, running this (by clicking run or pressing Shift+Enter) will list all files under the input directory\n",
        "\n",
        "import os\n",
        "for dirname, _, filenames in os.walk('/kaggle/input'):\n",
        "    for filename in filenames:\n",
        "        print(os.path.join(dirname, filename))\n",
        "\n",
        "# You can write up to 20GB to the current directory (/kaggle/working/) that gets preserved as output when you create a version using \"Save & Run All\"\n",
        "# You can also write temporary files to /kaggle/temp/, but they won't be saved outside of the current session"
      ],
      "execution_count": 2,
      "outputs": [
        {
          "output_type": "stream",
          "name": "stdout",
          "text": [
            "/kaggle/input/playground-series-s4e8/test.csv\n",
            "/kaggle/input/playground-series-s4e8/train.csv\n",
            "/kaggle/input/playground-series-s4e8/sample_submission.csv\n"
          ]
        }
      ]
    },
    {
      "cell_type": "code",
      "source": [
        "import tensorflow as tf\n",
        "from tensorflow.keras.models import Sequential\n",
        "from tensorflow.keras.layers import Dense\n",
        "from tensorflow.keras.utils import to_categorical\n"
      ],
      "metadata": {
        "id": "kRVCBWIRIEfe"
      },
      "execution_count": 3,
      "outputs": []
    },
    {
      "cell_type": "code",
      "source": [
        "import numpy as np\n",
        "import pandas as pd\n",
        "\n",
        "# Veriyi okuma\n",
        "train_data = pd.read_csv('/kaggle/input/playground-series-s4e8/train.csv')\n",
        "test_data = pd.read_csv('/kaggle/input/playground-series-s4e8/test.csv')\n",
        "\n"
      ],
      "metadata": {
        "id": "MQhkn0ceKEVk"
      },
      "execution_count": 4,
      "outputs": []
    },
    {
      "cell_type": "code",
      "source": [
        "# Sayısal sütunları ortalama ile dolduralım\n",
        "numerical_columns = train_data.select_dtypes(include=['float64', 'int64']).columns\n",
        "train_data[numerical_columns] = train_data[numerical_columns].fillna(train_data[numerical_columns].mean())\n",
        "test_data[numerical_columns] = test_data[numerical_columns].fillna(test_data[numerical_columns].mean())\n"
      ],
      "metadata": {
        "id": "qZ1aOYpFKEZz"
      },
      "execution_count": 5,
      "outputs": []
    },
    {
      "cell_type": "code",
      "source": [
        "## Kategorik sütunları belirleyelim, 'class' sütununu hariç tutalım\n",
        "categorical_columns = train_data.select_dtypes(include=['object']).columns\n",
        "categorical_columns = categorical_columns.drop('class')\n",
        "\n",
        "# Kategorik sütunları en sık görülen değerle dolduralım\n",
        "train_data[categorical_columns] = train_data[categorical_columns].apply(lambda x: x.fillna(x.mode()[0]))\n",
        "test_data[categorical_columns] = test_data[categorical_columns].apply(lambda x: x.fillna(x.mode()[0]))\n",
        "\n",
        "print(train_data.isnull().sum())\n",
        "print(test_data.isnull().sum())"
      ],
      "metadata": {
        "id": "xQQZh97FKEcW",
        "outputId": "016da384-3ee3-4d78-ed1b-f10fd4909033",
        "colab": {
          "base_uri": "https://localhost:8080/"
        }
      },
      "execution_count": 6,
      "outputs": [
        {
          "output_type": "stream",
          "name": "stdout",
          "text": [
            "id                      0\n",
            "class                   0\n",
            "cap-diameter            0\n",
            "cap-shape               0\n",
            "cap-surface             0\n",
            "cap-color               0\n",
            "does-bruise-or-bleed    0\n",
            "gill-attachment         0\n",
            "gill-spacing            0\n",
            "gill-color              0\n",
            "stem-height             0\n",
            "stem-width              0\n",
            "stem-root               0\n",
            "stem-surface            0\n",
            "stem-color              0\n",
            "veil-type               0\n",
            "veil-color              0\n",
            "has-ring                0\n",
            "ring-type               0\n",
            "spore-print-color       0\n",
            "habitat                 0\n",
            "season                  0\n",
            "dtype: int64\n",
            "id                      0\n",
            "cap-diameter            0\n",
            "cap-shape               0\n",
            "cap-surface             0\n",
            "cap-color               0\n",
            "does-bruise-or-bleed    0\n",
            "gill-attachment         0\n",
            "gill-spacing            0\n",
            "gill-color              0\n",
            "stem-height             0\n",
            "stem-width              0\n",
            "stem-root               0\n",
            "stem-surface            0\n",
            "stem-color              0\n",
            "veil-type               0\n",
            "veil-color              0\n",
            "has-ring                0\n",
            "ring-type               0\n",
            "spore-print-color       0\n",
            "habitat                 0\n",
            "season                  0\n",
            "dtype: int64\n"
          ]
        }
      ]
    },
    {
      "cell_type": "code",
      "source": [
        "from sklearn.preprocessing import LabelEncoder\n",
        "# Ortak kategorik sütunlar\n",
        "common_categorical_columns = [\n",
        "    'cap-shape', 'cap-surface', 'cap-color', 'does-bruise-or-bleed',\n",
        "    'gill-attachment', 'gill-spacing', 'gill-color', 'stem-root',\n",
        "    'stem-surface', 'stem-color', 'veil-type', 'veil-color', 'has-ring',\n",
        "    'ring-type', 'spore-print-color', 'habitat', 'season'\n",
        "]\n",
        "\n",
        "# One-hot encoding uygulayalım\n",
        "train_data_encoded = pd.get_dummies(train_data, columns=common_categorical_columns)\n",
        "test_data_encoded = pd.get_dummies(test_data, columns=common_categorical_columns)\n"
      ],
      "metadata": {
        "id": "GLUpPDoTKgRA"
      },
      "execution_count": 7,
      "outputs": []
    },
    {
      "cell_type": "code",
      "source": [
        "# Eğitim ve test setindeki tüm sütunların aynı olduğundan emin olalım\n",
        "train_data_encoded, test_data_encoded = train_data_encoded.align(test_data_encoded, join='inner', axis=1)\n",
        "\n",
        "# Hedef değişkeni ayıralım\n",
        "label_encoder = LabelEncoder()\n",
        "\n",
        "# Hedef değişkenin adı 'target' yerine, 'class' olduğunu varsayalım\n",
        "train_data_encoded['class'] = label_encoder.fit_transform(train_data['class'])"
      ],
      "metadata": {
        "id": "U62BohOHKgTd"
      },
      "execution_count": 8,
      "outputs": []
    },
    {
      "cell_type": "code",
      "source": [
        "\n",
        "# Özellikler ve hedef değişkeni ayıralım\n",
        "X_train = train_data_encoded.drop(['id', 'class'], axis=1).values\n",
        "y_train = train_data_encoded['class'].values\n",
        "\n",
        "# Test verisini hazırlayalım\n",
        "X_test = test_data_encoded.drop('id', axis=1).values"
      ],
      "metadata": {
        "id": "5pFQz6A1KgVu"
      },
      "execution_count": 9,
      "outputs": []
    },
    {
      "cell_type": "code",
      "source": [
        "X_train = X_train.astype('float32')\n",
        "y_train = y_train.astype('int32')  # Eğer sınıf etiketleri tamsayılar\n"
      ],
      "metadata": {
        "id": "axIcu0tNMnDZ"
      },
      "execution_count": 12,
      "outputs": []
    },
    {
      "cell_type": "code",
      "source": [
        "num_classes = len(set(y_train))  # Kategorik sınıf sayısı\n",
        "\n",
        "model = Sequential([\n",
        "    Dense(64, activation='relu', input_shape=(X_train.shape[1],)),\n",
        "    Dense(32, activation='relu'),\n",
        "    Dense(num_classes, activation='softmax')\n",
        "])\n",
        "\n",
        "model.compile(optimizer='adam',\n",
        "              loss='sparse_categorical_crossentropy',  # 'sparse_categorical_crossentropy' kullanımı uygun olabilir\n",
        "              metrics=['accuracy'])\n"
      ],
      "metadata": {
        "id": "Rr8lMP2nIEkK"
      },
      "execution_count": 10,
      "outputs": []
    },
    {
      "cell_type": "code",
      "source": [
        "history = model.fit(X_train, y_train,\n",
        "                    epochs=10,\n",
        "                    batch_size=32,\n",
        "                    validation_split=0.2)  # %20 veriyi doğrulama için ayırdık\n"
      ],
      "metadata": {
        "id": "-DZjN-XyIEmc",
        "outputId": "4b568081-4552-4e82-acd9-f3145412c22e",
        "colab": {
          "base_uri": "https://localhost:8080/"
        }
      },
      "execution_count": 13,
      "outputs": [
        {
          "output_type": "stream",
          "name": "stdout",
          "text": [
            "Epoch 1/10\n",
            "77924/77924 [==============================] - 162s 2ms/step - loss: 0.0514 - accuracy: 0.9878 - val_loss: 0.0438 - val_accuracy: 0.9904\n",
            "Epoch 2/10\n",
            "77924/77924 [==============================] - 155s 2ms/step - loss: 0.0436 - accuracy: 0.9903 - val_loss: 0.0431 - val_accuracy: 0.9904\n",
            "Epoch 3/10\n",
            "77924/77924 [==============================] - 152s 2ms/step - loss: 0.0426 - accuracy: 0.9906 - val_loss: 0.0414 - val_accuracy: 0.9908\n",
            "Epoch 4/10\n",
            "77924/77924 [==============================] - 150s 2ms/step - loss: 0.0421 - accuracy: 0.9907 - val_loss: 0.0415 - val_accuracy: 0.9908\n",
            "Epoch 5/10\n",
            "77924/77924 [==============================] - 152s 2ms/step - loss: 0.0418 - accuracy: 0.9908 - val_loss: 0.0409 - val_accuracy: 0.9910\n",
            "Epoch 6/10\n",
            "77924/77924 [==============================] - 148s 2ms/step - loss: 0.0417 - accuracy: 0.9909 - val_loss: 0.0416 - val_accuracy: 0.9909\n",
            "Epoch 7/10\n",
            "77924/77924 [==============================] - 148s 2ms/step - loss: 0.0417 - accuracy: 0.9909 - val_loss: 0.0408 - val_accuracy: 0.9910\n",
            "Epoch 8/10\n",
            "77924/77924 [==============================] - 150s 2ms/step - loss: 0.0417 - accuracy: 0.9909 - val_loss: 0.0416 - val_accuracy: 0.9908\n",
            "Epoch 9/10\n",
            "77924/77924 [==============================] - 152s 2ms/step - loss: 0.0416 - accuracy: 0.9909 - val_loss: 0.0411 - val_accuracy: 0.9910\n",
            "Epoch 10/10\n",
            "77924/77924 [==============================] - 151s 2ms/step - loss: 0.0417 - accuracy: 0.9909 - val_loss: 0.0412 - val_accuracy: 0.9910\n"
          ]
        }
      ]
    },
    {
      "cell_type": "code",
      "source": [
        "# Test verisi üzerinde tahminler yapın\n",
        "y_pred = model.predict(X_test)\n",
        "y_pred_classes = np.argmax(y_pred, axis=1)  # Kategorik tahminler\n",
        "\n",
        "# Sonuçları bir DataFrame'e dönüştür\n",
        "submission_df = pd.DataFrame({'id': test_data['id'], 'class': y_pred_classes})\n",
        "\n",
        "# Dosyayı kaydedin\n",
        "submission_df.to_csv('submission1.csv', index=False)\n"
      ],
      "metadata": {
        "colab": {
          "base_uri": "https://localhost:8080/"
        },
        "id": "5Mo1BHA5VtXC",
        "outputId": "c6b5f319-9dd1-4d0a-a22c-fd779707d01c"
      },
      "execution_count": 30,
      "outputs": [
        {
          "output_type": "stream",
          "name": "stdout",
          "text": [
            "64937/64937 [==============================] - 76s 1ms/step\n"
          ]
        }
      ]
    },
    {
      "cell_type": "code",
      "source": [
        "# Test verisi üzerinde tahminler\n",
        "X_test = X_test.astype('float32')  # Test verisini de uygun türde dönüştür\n",
        "\n",
        "# NaN ve sonsuz değerleri kontrol et\n",
        "X_test = np.nan_to_num(X_test)\n",
        "\n",
        "# Tahminler\n",
        "y_pred = model.predict(X_test)\n",
        "y_pred_classes = np.argmax(y_pred, axis=1)  # Kategorik tahminler\n",
        "\n",
        "# Sonuçları bir DataFrame'e dönüştür\n",
        "submission = pd.DataFrame({\n",
        "    'id': test_data['id'],\n",
        "    'class': y_pred_classes\n",
        "})\n",
        "\n",
        "# Sonuçları CSV dosyasına kaydet\n",
        "submission.to_csv('submission.csv', index=False)\n"
      ],
      "metadata": {
        "id": "6LoxaynjIEop",
        "outputId": "6b10aa52-b8d2-48ba-a8f1-e0856fd6d81a",
        "colab": {
          "base_uri": "https://localhost:8080/"
        }
      },
      "execution_count": 22,
      "outputs": [
        {
          "output_type": "stream",
          "name": "stdout",
          "text": [
            "64937/64937 [==============================] - 79s 1ms/step\n"
          ]
        }
      ]
    },
    {
      "cell_type": "code",
      "source": [
        "print(train_data['class'].unique())\n"
      ],
      "metadata": {
        "id": "hpcu40tOU0qC",
        "outputId": "9d36f1e0-965b-4b55-d11a-7c270892cc3d",
        "colab": {
          "base_uri": "https://localhost:8080/"
        }
      },
      "execution_count": 26,
      "outputs": [
        {
          "output_type": "stream",
          "name": "stdout",
          "text": [
            "['e' 'p']\n"
          ]
        }
      ]
    }
  ],
  "metadata": {
    "kernelspec": {
      "display_name": "Python 3",
      "name": "python3"
    },
    "language_info": {
      "pygments_lexer": "ipython3",
      "nbconvert_exporter": "python",
      "version": "3.6.4",
      "file_extension": ".py",
      "codemirror_mode": {
        "name": "ipython",
        "version": 3
      },
      "name": "python",
      "mimetype": "text/x-python"
    },
    "colab": {
      "name": "notebook9d156d09ed",
      "provenance": [],
      "toc_visible": true,
      "gpuType": "V28",
      "include_colab_link": true
    },
    "accelerator": "TPU"
  },
  "nbformat": 4,
  "nbformat_minor": 0
}